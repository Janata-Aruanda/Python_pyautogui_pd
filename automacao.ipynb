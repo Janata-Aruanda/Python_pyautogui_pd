{
 "cells": [
  {
   "cell_type": "markdown",
   "id": "38218451",
   "metadata": {},
   "source": [
    "#            Teste de Automação com Python\n",
    " \n",
    " A Automação será com a linguagem Python, para resolver isso, vou usar pyautogui, uma biblioteca de automação comandos do mause e do teclado, irei baixar os dados do site Kaggle, fazer a manipulação com panda e enviar um \"relatorio\" no gmail de teste. \n",
    "  \n",
    "\n",
    "\n",
    "dados: https://www.kaggle.com/code/rafanthx13/analise-da-rea-de-dados-no-brasil/data\n",
    "Email: janataaruanda1999@gmail.com\n"
   ]
  },
  {
   "cell_type": "markdown",
   "id": "033d3206",
   "metadata": {},
   "source": [
    "! pip install pyautogui "
   ]
  },
  {
   "cell_type": "code",
   "execution_count": 1,
   "id": "be302801",
   "metadata": {},
   "outputs": [
    {
     "name": "stdout",
     "output_type": "stream",
     "text": [
      "Defaulting to user installation because normal site-packages is not writeable\n",
      "Requirement already satisfied: opencv-python in c:\\users\\janatã\\appdata\\roaming\\python\\python39\\site-packages (4.6.0.66)\n",
      "Requirement already satisfied: numpy>=1.19.3 in c:\\programdata\\anaconda3\\lib\\site-packages (from opencv-python) (1.21.5)\n"
     ]
    }
   ],
   "source": [
    "!pip install opencv-python"
   ]
  },
  {
   "cell_type": "code",
   "execution_count": 2,
   "id": "1c5b46fc",
   "metadata": {
    "scrolled": false
   },
   "outputs": [
    {
     "name": "stdout",
     "output_type": "stream",
     "text": [
      "Defaulting to user installation because normal site-packages is not writeable\n",
      "Requirement already satisfied: zipfile36 in c:\\users\\janatã\\appdata\\roaming\\python\\python39\\site-packages (0.1.3)\n"
     ]
    }
   ],
   "source": [
    "!pip install zipfile36"
   ]
  },
  {
   "cell_type": "code",
   "execution_count": 3,
   "id": "7440d138",
   "metadata": {},
   "outputs": [],
   "source": [
    "#!pip install os-sys\n"
   ]
  },
  {
   "cell_type": "code",
   "execution_count": 4,
   "id": "7898bc65",
   "metadata": {
    "scrolled": true
   },
   "outputs": [
    {
     "name": "stdout",
     "output_type": "stream",
     "text": [
      "Defaulting to user installation because normal site-packages is not writeable\n",
      "Requirement already satisfied: pytest-shutil in c:\\users\\janatã\\appdata\\roaming\\python\\python39\\site-packages (1.7.0)\n",
      "Requirement already satisfied: six in c:\\programdata\\anaconda3\\lib\\site-packages (from pytest-shutil) (1.16.0)\n",
      "Requirement already satisfied: execnet in c:\\users\\janatã\\appdata\\roaming\\python\\python39\\site-packages (from pytest-shutil) (1.9.0)\n",
      "Requirement already satisfied: mock in c:\\programdata\\anaconda3\\lib\\site-packages (from pytest-shutil) (4.0.3)\n",
      "Requirement already satisfied: pytest in c:\\programdata\\anaconda3\\lib\\site-packages (from pytest-shutil) (7.1.1)\n",
      "Requirement already satisfied: termcolor in c:\\users\\janatã\\appdata\\roaming\\python\\python39\\site-packages (from pytest-shutil) (2.0.1)\n",
      "Requirement already satisfied: contextlib2 in c:\\users\\janatã\\appdata\\roaming\\python\\python39\\site-packages (from pytest-shutil) (21.6.0)\n",
      "Requirement already satisfied: path.py in c:\\users\\janatã\\appdata\\roaming\\python\\python39\\site-packages (from pytest-shutil) (12.5.0)\n",
      "Requirement already satisfied: path in c:\\users\\janatã\\appdata\\roaming\\python\\python39\\site-packages (from path.py->pytest-shutil) (16.5.0)\n",
      "Requirement already satisfied: attrs>=19.2.0 in c:\\programdata\\anaconda3\\lib\\site-packages (from pytest->pytest-shutil) (21.4.0)\n",
      "Requirement already satisfied: iniconfig in c:\\programdata\\anaconda3\\lib\\site-packages (from pytest->pytest-shutil) (1.1.1)\n",
      "Requirement already satisfied: packaging in c:\\programdata\\anaconda3\\lib\\site-packages (from pytest->pytest-shutil) (21.3)\n",
      "Requirement already satisfied: pluggy<2.0,>=0.12 in c:\\programdata\\anaconda3\\lib\\site-packages (from pytest->pytest-shutil) (1.0.0)\n",
      "Requirement already satisfied: py>=1.8.2 in c:\\programdata\\anaconda3\\lib\\site-packages (from pytest->pytest-shutil) (1.11.0)\n",
      "Requirement already satisfied: tomli>=1.0.0 in c:\\programdata\\anaconda3\\lib\\site-packages (from pytest->pytest-shutil) (1.2.2)\n",
      "Requirement already satisfied: atomicwrites>=1.0 in c:\\programdata\\anaconda3\\lib\\site-packages (from pytest->pytest-shutil) (1.4.0)\n",
      "Requirement already satisfied: colorama in c:\\programdata\\anaconda3\\lib\\site-packages (from pytest->pytest-shutil) (0.4.4)\n",
      "Requirement already satisfied: pyparsing!=3.0.5,>=2.0.2 in c:\\programdata\\anaconda3\\lib\\site-packages (from packaging->pytest->pytest-shutil) (3.0.4)\n"
     ]
    }
   ],
   "source": [
    "!pip install  pytest-shutil"
   ]
  },
  {
   "cell_type": "code",
   "execution_count": 5,
   "id": "6dd57dae",
   "metadata": {},
   "outputs": [],
   "source": [
    "import pyautogui \n",
    "import time \n",
    "import pyperclip\n",
    "\n",
    "pyautogui.PAUSE = 1\n",
    "\n",
    "#pyautogui.click -> clicar\n",
    "#pyautogui.press -> apertat 1 teclada \n",
    "#pyautogui.hotkey -> conjunto de teclada \n",
    "#pyautogui.write -> escrever\n",
    "#pyperclipe -> copiar \n",
    "#time -> tempo de excução\n",
    "\n",
    "\n",
    "# Passo 1: Entrar no sistema de browser(navegador)\n",
    "pyautogui.press(\"win\")\n",
    "pyautogui.write(\"chrome\")\n",
    "pyautogui.press(\"enter\")\n",
    "time.sleep(3)\n",
    "\n",
    "# Passo 2: Encontrar o site para base de dados \n",
    "pyautogui.write(\"https://www.kaggle.com/datasets/jefferymandrake/nyc-jobs-filtered-cols\")\n",
    "pyautogui.press('enter')\n",
    "\n",
    "while not pyautogui.locateOnScreen(\"conjunto.png\", confidence=0.9):\n",
    "    time.sleep(1)\n",
    "\n",
    "# Passo 3: Fazer o donwload da bade de dados \n",
    "pyautogui.click(x=1166, y=84)\n",
    "pyautogui.click(x=820, y=182)\n",
    "time.sleep(2)\n"
   ]
  },
  {
   "cell_type": "code",
   "execution_count": 6,
   "id": "5e10d883",
   "metadata": {},
   "outputs": [
    {
     "data": {
      "text/plain": [
       "'C:\\\\\\\\Users\\\\\\\\Janatã\\\\\\\\Desktop\\\\\\\\Automação_Python\\\\archive (1).zip'"
      ]
     },
     "execution_count": 6,
     "metadata": {},
     "output_type": "execute_result"
    }
   ],
   "source": [
    "# Passo 4: Mover o arquivo zip para o diretorio  \n",
    "import shutil \n",
    "shutil.move(r\"C:\\\\Users\\\\Janatã\\\\Downloads\\\\archive (1).zip\" ,r\"C:\\\\Users\\\\Janatã\\\\Desktop\\\\Automação_Python\")"
   ]
  },
  {
   "cell_type": "code",
   "execution_count": 7,
   "id": "bdcbe959",
   "metadata": {},
   "outputs": [],
   "source": [
    "# passo 5: Descompactar (.ZIP)\n",
    "from zipfile import ZipFile\n",
    "with ZipFile(\"archive (1).zip\", \"r\") as dados_zip:\n",
    "    dados_zip.extractall()\n"
   ]
  },
  {
   "cell_type": "code",
   "execution_count": 8,
   "id": "8829b87d",
   "metadata": {},
   "outputs": [],
   "source": [
    "# Passo 5: Fazer toda manipulação (ETL)\n",
    "import pandas as pd\n",
    "tabela = pd.read_csv(\"NYC_Jobs_filtered_cols.csv\")\n",
    "\n",
    "# editar nome das colunas\n",
    "tabela.rename(columns={'Job ID' : 'ID Emprego',\n",
    "                       'Job Category' : 'Categoria Emprego',\n",
    "                       'Salary Range From' : 'Faixa Salarial de',\n",
    "                       'Salary Range To' : \"Faixa Salarial até\"}, inplace=True)"
   ]
  },
  {
   "cell_type": "code",
   "execution_count": 9,
   "id": "b4c1d794",
   "metadata": {},
   "outputs": [
    {
     "data": {
      "text/html": [
       "<div>\n",
       "<style scoped>\n",
       "    .dataframe tbody tr th:only-of-type {\n",
       "        vertical-align: middle;\n",
       "    }\n",
       "\n",
       "    .dataframe tbody tr th {\n",
       "        vertical-align: top;\n",
       "    }\n",
       "\n",
       "    .dataframe thead th {\n",
       "        text-align: right;\n",
       "    }\n",
       "</style>\n",
       "<table border=\"1\" class=\"dataframe\">\n",
       "  <thead>\n",
       "    <tr style=\"text-align: right;\">\n",
       "      <th></th>\n",
       "      <th>ID Emprego</th>\n",
       "      <th>Civil Service Title</th>\n",
       "      <th>Agency</th>\n",
       "      <th>Posting Type</th>\n",
       "      <th>Categoria Emprego</th>\n",
       "      <th>Faixa Salarial de</th>\n",
       "      <th>Faixa Salarial até</th>\n",
       "    </tr>\n",
       "  </thead>\n",
       "  <tbody>\n",
       "    <tr>\n",
       "      <th>0</th>\n",
       "      <td>544477</td>\n",
       "      <td>ADM CONSTRUCTION PRJ MGR-NM</td>\n",
       "      <td>DEPARTMENT OF TRANSPORTATION</td>\n",
       "      <td>External</td>\n",
       "      <td>Engineering, Architecture, &amp; Planning</td>\n",
       "      <td>53702.0</td>\n",
       "      <td>146121.0</td>\n",
       "    </tr>\n",
       "    <tr>\n",
       "      <th>1</th>\n",
       "      <td>459790</td>\n",
       "      <td>ADM MANAGER-NON-MGRL FRM M1/M2</td>\n",
       "      <td>HRA/DEPT OF SOCIAL SERVICES</td>\n",
       "      <td>Internal</td>\n",
       "      <td>Administration &amp; Human Resources Constituent S...</td>\n",
       "      <td>76270.0</td>\n",
       "      <td>98830.0</td>\n",
       "    </tr>\n",
       "    <tr>\n",
       "      <th>2</th>\n",
       "      <td>272382</td>\n",
       "      <td>ASSOCIATE PUBLIC HEALTH SANITA</td>\n",
       "      <td>DEPT OF ENVIRONMENT PROTECTION</td>\n",
       "      <td>Internal</td>\n",
       "      <td>Public Safety, Inspections, &amp; Enforcement</td>\n",
       "      <td>60673.0</td>\n",
       "      <td>91795.0</td>\n",
       "    </tr>\n",
       "    <tr>\n",
       "      <th>3</th>\n",
       "      <td>539975</td>\n",
       "      <td>ADMINISTRATIVE DIRECTOR OF RES</td>\n",
       "      <td>ADMIN FOR CHILDREN'S SVCS</td>\n",
       "      <td>External</td>\n",
       "      <td>Social Services</td>\n",
       "      <td>80000.0</td>\n",
       "      <td>84000.0</td>\n",
       "    </tr>\n",
       "    <tr>\n",
       "      <th>4</th>\n",
       "      <td>547692</td>\n",
       "      <td>COMMUNITY ASSOCIATE</td>\n",
       "      <td>BRONX DISTRICT ATTORNEY</td>\n",
       "      <td>External</td>\n",
       "      <td>Administration &amp; Human Resources Legal Affairs...</td>\n",
       "      <td>60000.0</td>\n",
       "      <td>60000.0</td>\n",
       "    </tr>\n",
       "  </tbody>\n",
       "</table>\n",
       "</div>"
      ],
      "text/plain": [
       "   ID Emprego             Civil Service Title                          Agency  \\\n",
       "0      544477     ADM CONSTRUCTION PRJ MGR-NM    DEPARTMENT OF TRANSPORTATION   \n",
       "1      459790  ADM MANAGER-NON-MGRL FRM M1/M2     HRA/DEPT OF SOCIAL SERVICES   \n",
       "2      272382  ASSOCIATE PUBLIC HEALTH SANITA  DEPT OF ENVIRONMENT PROTECTION   \n",
       "3      539975  ADMINISTRATIVE DIRECTOR OF RES       ADMIN FOR CHILDREN'S SVCS   \n",
       "4      547692             COMMUNITY ASSOCIATE         BRONX DISTRICT ATTORNEY   \n",
       "\n",
       "  Posting Type                                  Categoria Emprego  \\\n",
       "0     External              Engineering, Architecture, & Planning   \n",
       "1     Internal  Administration & Human Resources Constituent S...   \n",
       "2     Internal          Public Safety, Inspections, & Enforcement   \n",
       "3     External                                    Social Services   \n",
       "4     External  Administration & Human Resources Legal Affairs...   \n",
       "\n",
       "   Faixa Salarial de  Faixa Salarial até  \n",
       "0            53702.0            146121.0  \n",
       "1            76270.0             98830.0  \n",
       "2            60673.0             91795.0  \n",
       "3            80000.0             84000.0  \n",
       "4            60000.0             60000.0  "
      ]
     },
     "execution_count": 9,
     "metadata": {},
     "output_type": "execute_result"
    }
   ],
   "source": [
    "# Inprimindo a tabela \n",
    "tabela.head()"
   ]
  },
  {
   "cell_type": "code",
   "execution_count": 10,
   "id": "2cfbcf5f",
   "metadata": {},
   "outputs": [],
   "source": [
    "## Excluindo algumas Colunas \n",
    "tabela.drop(\"Civil Service Title\", axis=1, inplace=True)\n",
    "tabela.drop(\"Agency\",  axis=1, inplace=True)\n",
    "tabela.drop(\"Posting Type\",  axis=1, inplace=True)"
   ]
  },
  {
   "cell_type": "code",
   "execution_count": 11,
   "id": "3064818b",
   "metadata": {},
   "outputs": [
    {
     "data": {
      "text/html": [
       "<div>\n",
       "<style scoped>\n",
       "    .dataframe tbody tr th:only-of-type {\n",
       "        vertical-align: middle;\n",
       "    }\n",
       "\n",
       "    .dataframe tbody tr th {\n",
       "        vertical-align: top;\n",
       "    }\n",
       "\n",
       "    .dataframe thead th {\n",
       "        text-align: right;\n",
       "    }\n",
       "</style>\n",
       "<table border=\"1\" class=\"dataframe\">\n",
       "  <thead>\n",
       "    <tr style=\"text-align: right;\">\n",
       "      <th></th>\n",
       "      <th>ID Emprego</th>\n",
       "      <th>Categoria Emprego</th>\n",
       "      <th>Faixa Salarial de</th>\n",
       "      <th>Faixa Salarial até</th>\n",
       "    </tr>\n",
       "  </thead>\n",
       "  <tbody>\n",
       "    <tr>\n",
       "      <th>0</th>\n",
       "      <td>544477</td>\n",
       "      <td>Engineering, Architecture, &amp; Planning</td>\n",
       "      <td>53702.0</td>\n",
       "      <td>146121.0</td>\n",
       "    </tr>\n",
       "    <tr>\n",
       "      <th>1</th>\n",
       "      <td>459790</td>\n",
       "      <td>Administration &amp; Human Resources Constituent S...</td>\n",
       "      <td>76270.0</td>\n",
       "      <td>98830.0</td>\n",
       "    </tr>\n",
       "    <tr>\n",
       "      <th>2</th>\n",
       "      <td>272382</td>\n",
       "      <td>Public Safety, Inspections, &amp; Enforcement</td>\n",
       "      <td>60673.0</td>\n",
       "      <td>91795.0</td>\n",
       "    </tr>\n",
       "    <tr>\n",
       "      <th>3</th>\n",
       "      <td>539975</td>\n",
       "      <td>Social Services</td>\n",
       "      <td>80000.0</td>\n",
       "      <td>84000.0</td>\n",
       "    </tr>\n",
       "    <tr>\n",
       "      <th>4</th>\n",
       "      <td>547692</td>\n",
       "      <td>Administration &amp; Human Resources Legal Affairs...</td>\n",
       "      <td>60000.0</td>\n",
       "      <td>60000.0</td>\n",
       "    </tr>\n",
       "  </tbody>\n",
       "</table>\n",
       "</div>"
      ],
      "text/plain": [
       "   ID Emprego                                  Categoria Emprego  \\\n",
       "0      544477              Engineering, Architecture, & Planning   \n",
       "1      459790  Administration & Human Resources Constituent S...   \n",
       "2      272382          Public Safety, Inspections, & Enforcement   \n",
       "3      539975                                    Social Services   \n",
       "4      547692  Administration & Human Resources Legal Affairs...   \n",
       "\n",
       "   Faixa Salarial de  Faixa Salarial até  \n",
       "0            53702.0            146121.0  \n",
       "1            76270.0             98830.0  \n",
       "2            60673.0             91795.0  \n",
       "3            80000.0             84000.0  \n",
       "4            60000.0             60000.0  "
      ]
     },
     "execution_count": 11,
     "metadata": {},
     "output_type": "execute_result"
    }
   ],
   "source": [
    "tabela.head()"
   ]
  },
  {
   "cell_type": "code",
   "execution_count": 12,
   "id": "93ba492c",
   "metadata": {},
   "outputs": [],
   "source": [
    "## Exportando tabela \n",
    "tabela.to_csv('Salario_Categoria_NYC.csv')\n"
   ]
  },
  {
   "cell_type": "code",
   "execution_count": 13,
   "id": "984ef9e2",
   "metadata": {},
   "outputs": [
    {
     "data": {
      "text/html": [
       "<div>\n",
       "<style scoped>\n",
       "    .dataframe tbody tr th:only-of-type {\n",
       "        vertical-align: middle;\n",
       "    }\n",
       "\n",
       "    .dataframe tbody tr th {\n",
       "        vertical-align: top;\n",
       "    }\n",
       "\n",
       "    .dataframe thead th {\n",
       "        text-align: right;\n",
       "    }\n",
       "</style>\n",
       "<table border=\"1\" class=\"dataframe\">\n",
       "  <thead>\n",
       "    <tr style=\"text-align: right;\">\n",
       "      <th></th>\n",
       "      <th>ID Emprego</th>\n",
       "      <th>Categoria Emprego</th>\n",
       "      <th>Faixa Salarial de</th>\n",
       "      <th>Faixa Salarial até</th>\n",
       "    </tr>\n",
       "  </thead>\n",
       "  <tbody>\n",
       "    <tr>\n",
       "      <th>12</th>\n",
       "      <td>544973</td>\n",
       "      <td>Technology, Data &amp; Innovation</td>\n",
       "      <td>100000.0</td>\n",
       "      <td>180000.0</td>\n",
       "    </tr>\n",
       "    <tr>\n",
       "      <th>42</th>\n",
       "      <td>531632</td>\n",
       "      <td>Technology, Data &amp; Innovation</td>\n",
       "      <td>95000.0</td>\n",
       "      <td>110000.0</td>\n",
       "    </tr>\n",
       "    <tr>\n",
       "      <th>49</th>\n",
       "      <td>537855</td>\n",
       "      <td>Technology, Data &amp; Innovation</td>\n",
       "      <td>58700.0</td>\n",
       "      <td>105000.0</td>\n",
       "    </tr>\n",
       "    <tr>\n",
       "      <th>53</th>\n",
       "      <td>552636</td>\n",
       "      <td>Technology, Data &amp; Innovation</td>\n",
       "      <td>58839.0</td>\n",
       "      <td>75000.0</td>\n",
       "    </tr>\n",
       "    <tr>\n",
       "      <th>91</th>\n",
       "      <td>455079</td>\n",
       "      <td>Technology, Data &amp; Innovation</td>\n",
       "      <td>75000.0</td>\n",
       "      <td>160000.0</td>\n",
       "    </tr>\n",
       "    <tr>\n",
       "      <th>...</th>\n",
       "      <td>...</td>\n",
       "      <td>...</td>\n",
       "      <td>...</td>\n",
       "      <td>...</td>\n",
       "    </tr>\n",
       "    <tr>\n",
       "      <th>5208</th>\n",
       "      <td>535503</td>\n",
       "      <td>Technology, Data &amp; Innovation</td>\n",
       "      <td>58700.0</td>\n",
       "      <td>66000.0</td>\n",
       "    </tr>\n",
       "    <tr>\n",
       "      <th>5209</th>\n",
       "      <td>545250</td>\n",
       "      <td>Technology, Data &amp; Innovation</td>\n",
       "      <td>58700.0</td>\n",
       "      <td>70000.0</td>\n",
       "    </tr>\n",
       "    <tr>\n",
       "      <th>5212</th>\n",
       "      <td>552342</td>\n",
       "      <td>Technology, Data &amp; Innovation</td>\n",
       "      <td>73358.0</td>\n",
       "      <td>95000.0</td>\n",
       "    </tr>\n",
       "    <tr>\n",
       "      <th>5217</th>\n",
       "      <td>533082</td>\n",
       "      <td>Technology, Data &amp; Innovation</td>\n",
       "      <td>100000.0</td>\n",
       "      <td>120000.0</td>\n",
       "    </tr>\n",
       "    <tr>\n",
       "      <th>5220</th>\n",
       "      <td>532461</td>\n",
       "      <td>Technology, Data &amp; Innovation</td>\n",
       "      <td>100000.0</td>\n",
       "      <td>140000.0</td>\n",
       "    </tr>\n",
       "  </tbody>\n",
       "</table>\n",
       "<p>455 rows × 4 columns</p>\n",
       "</div>"
      ],
      "text/plain": [
       "      ID Emprego              Categoria Emprego  Faixa Salarial de  \\\n",
       "12        544973  Technology, Data & Innovation           100000.0   \n",
       "42        531632  Technology, Data & Innovation            95000.0   \n",
       "49        537855  Technology, Data & Innovation            58700.0   \n",
       "53        552636  Technology, Data & Innovation            58839.0   \n",
       "91        455079  Technology, Data & Innovation            75000.0   \n",
       "...          ...                            ...                ...   \n",
       "5208      535503  Technology, Data & Innovation            58700.0   \n",
       "5209      545250  Technology, Data & Innovation            58700.0   \n",
       "5212      552342  Technology, Data & Innovation            73358.0   \n",
       "5217      533082  Technology, Data & Innovation           100000.0   \n",
       "5220      532461  Technology, Data & Innovation           100000.0   \n",
       "\n",
       "      Faixa Salarial até  \n",
       "12              180000.0  \n",
       "42              110000.0  \n",
       "49              105000.0  \n",
       "53               75000.0  \n",
       "91              160000.0  \n",
       "...                  ...  \n",
       "5208             66000.0  \n",
       "5209             70000.0  \n",
       "5212             95000.0  \n",
       "5217            120000.0  \n",
       "5220            140000.0  \n",
       "\n",
       "[455 rows x 4 columns]"
      ]
     },
     "metadata": {},
     "output_type": "display_data"
    }
   ],
   "source": [
    "## Filtrando por Categoria\n",
    "categoria_tdi = tabela.loc[tabela['Categoria Emprego']=='Technology, Data & Innovation']\n",
    "display(categoria_tdi)\n"
   ]
  },
  {
   "cell_type": "code",
   "execution_count": 14,
   "id": "4b0778c2",
   "metadata": {},
   "outputs": [],
   "source": [
    "#maior = tabela['Faixa Salarial de'].max()\n",
    "#menor = tabela['Faixa Salarial de'].min()\n",
    "\n",
    "#print(maior)\n",
    "#print(menor)"
   ]
  },
  {
   "cell_type": "code",
   "execution_count": 15,
   "id": "a3950504",
   "metadata": {},
   "outputs": [
    {
     "name": "stderr",
     "output_type": "stream",
     "text": [
      "C:\\Users\\Janatã\\AppData\\Local\\Temp\\ipykernel_10908\\943985497.py:1: FutureWarning: Dropping of nuisance columns in DataFrame reductions (with 'numeric_only=None') is deprecated; in a future version this will raise TypeError.  Select only valid columns before calling the reduction.\n",
      "  maximo = tabela.max()\n"
     ]
    },
    {
     "data": {
      "text/plain": [
       "ID Emprego            552937.0\n",
       "Faixa Salarial de     270000.0\n",
       "Faixa Salarial até    300000.0\n",
       "dtype: float64"
      ]
     },
     "metadata": {},
     "output_type": "display_data"
    }
   ],
   "source": [
    "maximo = tabela.max()\n",
    "display(maximo)"
   ]
  },
  {
   "cell_type": "code",
   "execution_count": 16,
   "id": "5afc2b34",
   "metadata": {},
   "outputs": [
    {
     "data": {
      "text/plain": [
       "Engineering, Architecture, & Planning                                                                                                                                                                                                             521\n",
       "Technology, Data & Innovation                                                                                                                                                                                                                     455\n",
       "Legal Affairs                                                                                                                                                                                                                                     432\n",
       "Constituent Services & Community Programs                                                                                                                                                                                                         346\n",
       "Finance, Accounting, & Procurement                                                                                                                                                                                                                324\n",
       "                                                                                                                                                                                                                                                 ... \n",
       "Constituent Services & Community Programs Engineering, Architecture, & Planning Public Safety, Inspections, & Enforcement                                                                                                                           1\n",
       "Administration & Human Resources Technology, Data & Innovation Building Operations & Maintenance                                                                                                                                                    1\n",
       "Constituent Services & Community Programs Technology, Data & Innovation Social Services                                                                                                                                                             1\n",
       "Administration & Human Resources Communications & Intergovernmental Affairs Engineering, Architecture, & Planning Health Policy, Research & Analysis Public Safety, Inspections, & Enforcement                                                      1\n",
       "Constituent Services & Community Programs Communications & Intergovernmental Affairs Engineering, Architecture, & Planning Technology, Data & Innovation Policy, Research & Analysis Public Safety, Inspections, & Enforcement Social Services      1\n",
       "Name: Categoria Emprego, Length: 166, dtype: int64"
      ]
     },
     "metadata": {},
     "output_type": "display_data"
    }
   ],
   "source": [
    "tabela_qtd = tabela['Categoria Emprego'].value_counts()\n",
    "display(tabela_qtd)"
   ]
  },
  {
   "cell_type": "code",
   "execution_count": 17,
   "id": "5641df59",
   "metadata": {},
   "outputs": [
    {
     "data": {
      "text/plain": [
       "ID Emprego                                   552807\n",
       "Categoria Emprego     Technology, Data & Innovation\n",
       "Faixa Salarial de                          145000.0\n",
       "Faixa Salarial até                         241434.0\n",
       "dtype: object"
      ]
     },
     "execution_count": 17,
     "metadata": {},
     "output_type": "execute_result"
    }
   ],
   "source": [
    "categoria_tdi.max()"
   ]
  },
  {
   "cell_type": "code",
   "execution_count": 18,
   "id": "157aa1c1",
   "metadata": {},
   "outputs": [],
   "source": [
    "##, clicks=1, interval=0.25)\n",
    "#pyautogui.click(x=811, y=179)"
   ]
  },
  {
   "cell_type": "code",
   "execution_count": 19,
   "id": "fd30d78f",
   "metadata": {},
   "outputs": [],
   "source": [
    "#entrando no gmail\n",
    "pyautogui.hotkey('ctrl' , 't')\n",
    "pyautogui.write(\"https://mail.google.com/mail/u/0/?tab=rm&ogbl#inbox\")\n",
    "pyautogui.press('enter')\n",
    "pyautogui.click(x=73, y=164, clicks=2, interval=0.25)\n",
    "pyautogui.doubleClick(x=73, y=164) \n",
    "\n",
    "#Preenchendo a informação do e-mail \n",
    "time.sleep(6)\n",
    "pyautogui.write(\"janataaruanda@gmail.com\")\n",
    "pyautogui.hotkey('tab')\n",
    "pyautogui.hotkey('tab')\n",
    "pyautogui.write('Relatorio Teste')\n",
    "pyautogui.hotkey('tab')\n",
    "\n",
    "texto = f\"\"\"\n",
    "Olá Prezados(as)\n",
    "Estou praticando automação com a linguagem Python, para resolver isso, vou usar pyautogui, uma biblioteca de automação comandos do mause e do teclado, irei baixar os dados do site Kaggle,fazer a manipulação com panda e enviar um \"relatorio\" no gmail de teste.\n",
    "\n",
    "A Categoria de Emprego Technology, Data & Innovation tento 455 empregados. \n",
    "\n",
    "{categoria_tdi.max()}\n",
    "\n",
    "\n",
    "Att.Janatã Aruanda \n",
    "\"\"\"\n",
    "\n",
    "## \n",
    "time.sleep(5)\n",
    "pyperclip.copy(texto)\n",
    "pyautogui.hotkey('ctrl' , 'v')\n",
    "\n",
    "##\n",
    "arquivo = r'C:\\Users\\Janatã\\Desktop\\Automação_Python\\Salario_Categoria_NYC.csv'\n",
    "pyautogui.click(x=963, y=676)\n",
    "time.sleep(2)\n",
    "pyperclip.copy(arquivo)\n",
    "pyautogui.hotkey('ctrl' , 'v')\n",
    "pyautogui.press('enter')\n",
    "\n",
    "\n",
    "pyautogui.hotkey('ctrl' , 'enter')   \n",
    "\n",
    "time.sleep(5)\n",
    "pyautogui.click(x=631, y=213)\n"
   ]
  },
  {
   "cell_type": "code",
   "execution_count": null,
   "id": "e111900d",
   "metadata": {},
   "outputs": [],
   "source": []
  },
  {
   "cell_type": "code",
   "execution_count": 20,
   "id": "64c0ef4e",
   "metadata": {},
   "outputs": [],
   "source": [
    "#time.sleep(5)\n",
    "#pyautogui.position()\n"
   ]
  },
  {
   "cell_type": "code",
   "execution_count": null,
   "id": "2e65d721",
   "metadata": {},
   "outputs": [],
   "source": []
  },
  {
   "cell_type": "code",
   "execution_count": null,
   "id": "a14d186c",
   "metadata": {},
   "outputs": [],
   "source": []
  },
  {
   "cell_type": "code",
   "execution_count": null,
   "id": "2b2843de",
   "metadata": {},
   "outputs": [],
   "source": []
  }
 ],
 "metadata": {
  "kernelspec": {
   "display_name": "Python 3 (ipykernel)",
   "language": "python",
   "name": "python3"
  },
  "language_info": {
   "codemirror_mode": {
    "name": "ipython",
    "version": 3
   },
   "file_extension": ".py",
   "mimetype": "text/x-python",
   "name": "python",
   "nbconvert_exporter": "python",
   "pygments_lexer": "ipython3",
   "version": "3.9.12"
  }
 },
 "nbformat": 4,
 "nbformat_minor": 5
}
